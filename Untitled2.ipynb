{
  "nbformat": 4,
  "nbformat_minor": 0,
  "metadata": {
    "colab": {
      "provenance": []
    },
    "kernelspec": {
      "name": "python3",
      "display_name": "Python 3"
    },
    "language_info": {
      "name": "python"
    }
  },
  "cells": [
    {
      "cell_type": "code",
      "execution_count": null,
      "metadata": {
        "id": "VhCdNK10nQ5K"
      },
      "outputs": [],
      "source": [
        "import time\n",
        "\n",
        "class CountdownTimer:\n",
        "    def __init__(self, duration):\n",
        "        self.duration = duration\n",
        "        self.start_time = None\n",
        "        self.pause_time = None\n",
        "        self.paused_duration = 0\n",
        "\n",
        "    def start(self):\n",
        "        self.start_time = time.time()\n",
        "\n",
        "    def pause(self):\n",
        "        if self.start_time is not None and self.pause_time is None:\n",
        "            self.pause_time = time.time()\n",
        "\n",
        "    def resume(self):\n",
        "        if self.start_time is not None and self.pause_time is not None:\n",
        "            self.paused_duration += time.time() - self.pause_time\n",
        "            self.pause_time = None\n",
        "\n",
        "    def stop(self):\n",
        "        self.start_time = None\n",
        "        self.pause_time = None\n",
        "        self.paused_duration = 0\n",
        "\n",
        "    def reset(self, duration):\n",
        "        self.duration = duration\n",
        "        self.start_time = None\n",
        "        self.pause_time = None\n",
        "        self.paused_duration = 0\n",
        "\n",
        "    def get_time_remaining(self):\n",
        "        if self.start_time is None:\n",
        "            return self.duration\n",
        "        elif self.pause_time is not None:\n",
        "            return self.duration - (self.pause_time - self.start_time - self.paused_duration)\n",
        "        else:\n",
        "            return self.duration - (time.time() - self.start_time - self.paused_duration)\n",
        "\n",
        "    def is_running(self):\n",
        "        return self.start_time is not None and self.pause_time is None\n",
        "\n",
        "    def run(self):\n",
        "        self.start()\n",
        "        while self.get_time_remaining() > 0:\n",
        "            print(\"Time remaining: %d seconds\" % self.get_time_remaining())\n",
        "            time.sleep(1)\n",
        "        print(\"Time's up!\")\n",
        "\n",
        "timer = CountdownTimer(60)\n",
        "\n",
        "while True:\n",
        "    print(\"Commands: start, pause, resume, stop, reset\")\n",
        "    command = input(\"Enter a command: \")\n",
        "    if command == \"start\":\n",
        "        if not timer.is_running():\n",
        "            timer.run()\n",
        "    elif command == \"pause\":\n",
        "        timer.pause()\n",
        "    elif command == \"resume\":\n",
        "        timer.resume()\n",
        "    elif command == \"stop\":\n",
        "        timer.stop()\n",
        "    elif command == \"reset\":\n",
        "        duration = int(input(\"Enter a new duration: \"))\n",
        "        timer.reset(duration)\n",
        "    else:\n",
        "        print(\"Invalid command\")\n"
      ]
    }
  ]
}